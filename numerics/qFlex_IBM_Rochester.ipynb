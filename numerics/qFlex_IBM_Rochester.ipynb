{
 "cells": [
  {
   "cell_type": "code",
   "execution_count": 1,
   "metadata": {
    "ExecuteTime": {
     "end_time": "2019-11-13T17:02:38.000545Z",
     "start_time": "2019-11-13T17:02:36.900534Z"
    },
    "colab": {
     "base_uri": "https://localhost:8080/",
     "height": 34
    },
    "colab_type": "code",
    "executionInfo": {
     "elapsed": 22,
     "status": "ok",
     "timestamp": 1573583255741,
     "user": {
      "displayName": "Alan Kao",
      "photoUrl": "",
      "userId": "05072864353780750136"
     },
     "user_tz": 480
    },
    "id": "C_Skdn8qubuG",
    "outputId": "4abd4d69-7a4d-4978-bed3-aeab6fbcd822"
   },
   "outputs": [
    {
     "name": "stdout",
     "output_type": "stream",
     "text": [
      "env: OMP_NUM_THREADS=1\n"
     ]
    }
   ],
   "source": [
    "# Set the number of number of OMP threads to 1\n",
    "%env OMP_NUM_THREADS=1\n",
    "\n",
    "# Update path including qFlex root\n",
    "import sys, os\n",
    "sys.path.insert(1, os.path.dirname('./../'))\n",
    "\n",
    "from python import qflex\n",
    "from python import utils\n",
    "from python.ordering import order_circuit_simulation as order_lib\n",
    "from python.circuits import generator\n",
    "from progressbar import progressbar as pb\n",
    "from io import StringIO\n",
    "from multiprocessing import Pool\n",
    "from itertools import chain\n",
    "import matplotlib.pyplot as plt\n",
    "import numpy as np\n",
    "import cirq"
   ]
  },
  {
   "cell_type": "code",
   "execution_count": 2,
   "metadata": {
    "ExecuteTime": {
     "end_time": "2019-11-13T17:02:41.212517Z",
     "start_time": "2019-11-13T17:02:41.208697Z"
    },
    "colab": {},
    "colab_type": "code",
    "id": "8ntdx8mE4GuU"
   },
   "outputs": [],
   "source": [
    "# Get ordering\n",
    "def get_ordering(grid, circuit):\n",
    "    qubits = utils.GetGridQubits(StringIO('\\n'.join(grid)))\n",
    "    circuit = utils.GetCircuit(StringIO('\\n'.join(circuit)), qubits)\n",
    "    return order_lib.circuit_to_ordering(circuit, qubit_names=sorted(qubits))"
   ]
  },
  {
   "cell_type": "code",
   "execution_count": 3,
   "metadata": {
    "ExecuteTime": {
     "end_time": "2019-11-13T17:02:42.769014Z",
     "start_time": "2019-11-13T17:02:42.761877Z"
    },
    "colab": {},
    "colab_type": "code",
    "id": "rgVjFe6BsfD1"
   },
   "outputs": [],
   "source": [
    "# Define IBM Rochester layout\n",
    "ibm_rochester = \"\"\"001111100\n",
    "001000100\n",
    "111111111\n",
    "100010001\n",
    "111111111\n",
    "001000100\n",
    "111111111\n",
    "100010001\n",
    "111111111\n",
    "001000100\"\"\".split('\\n')"
   ]
  },
  {
   "cell_type": "code",
   "execution_count": 4,
   "metadata": {
    "ExecuteTime": {
     "end_time": "2019-11-13T17:02:43.469642Z",
     "start_time": "2019-11-13T17:02:43.460689Z"
    },
    "colab": {},
    "colab_type": "code",
    "id": "oyTeUZCguuX2"
   },
   "outputs": [],
   "source": [
    "# Define IBM Rochester gates\n",
    "ibm_rochester_1q_gates = [\"x_1_2\", \"y_1_2\", \"t\"]\n",
    "ibm_rochester_2q_gate = \"cx\""
   ]
  },
  {
   "cell_type": "code",
   "execution_count": 5,
   "metadata": {
    "ExecuteTime": {
     "end_time": "2019-11-13T17:02:49.453557Z",
     "start_time": "2019-11-13T17:02:49.434073Z"
    },
    "colab": {},
    "colab_type": "code",
    "id": "CM8lamUat_Cz"
   },
   "outputs": [],
   "source": [
    "# Define pattern for the generation of RQCs\n",
    "ibm_rochester_pattern = {\n",
    "    'A': {(0, 1), (2, 3), (4, 6), (5, 9), (7, 8), (10, 11), (12, 13),\n",
    "          (14, 15), (16, 19), (18, 27), (20, 21), (23, 24), (25, 26),\n",
    "          (28, 32), (30, 31), (33, 34), (36, 37), (38, 41), (39, 42),\n",
    "          (43, 44), (45, 46), (47, 48), (49, 50)},\n",
    "    'B': {(0, 5), (1, 2), (3, 4), (6, 13), (7, 16), (9, 10), (11, 12),\n",
    "          (15, 18), (17, 23), (19, 20), (21, 22), (24, 25), (26, 27),\n",
    "          (29, 36), (30, 39), (32, 33), (34, 35), (37, 38), (40, 46),\n",
    "          (41, 50), (42, 43), (44, 45), (48, 49)},\n",
    "    'C': {(0, 5), (1, 2), (3, 4), (7, 16), (8, 9), (11, 17), (13, 14),\n",
    "          (15, 18), (19, 20), (21, 28), (22, 23), (25, 29), (26, 27),\n",
    "          (30, 39), (31, 32), (34, 40), (35, 36), (37, 38), (41, 50),\n",
    "          (42, 43), (44, 51), (46, 47), (48, 52)},\n",
    "}\n",
    "\n",
    "# Define the sequence of patterns\n",
    "ibm_rochester_sequence = \"ABC\"\n",
    "\n",
    "# Define the depth of the circuit\n",
    "ibm_rochester_depth = 4\n",
    "\n",
    "# Get qubits map\n",
    "qubits_map = {}\n",
    "for x,k in enumerate(int(y) for x in ibm_rochester for y in x):\n",
    "    if k != 0:\n",
    "        qubits_map[len(qubits_map)] = x"
   ]
  },
  {
   "cell_type": "code",
   "execution_count": 6,
   "metadata": {
    "ExecuteTime": {
     "end_time": "2019-11-13T17:02:57.316291Z",
     "start_time": "2019-11-13T17:02:57.309566Z"
    },
    "colab": {},
    "colab_type": "code",
    "id": "_laMZRpMuIJq"
   },
   "outputs": [],
   "source": [
    "# Get a generator of RQCs\n",
    "prqcg = generator.PseudoRandomCircuitGenerator(\n",
    "            generator.Device(ibm_rochester_pattern),\n",
    "            ibm_rochester_1q_gates, \n",
    "            ibm_rochester_2q_gate)\n",
    "\n",
    "def get_rqc():\n",
    "\n",
    "    # Get a RQC ...\n",
    "    rqc = prqcg.generate(ibm_rochester_sequence, ibm_rochester_depth, 123)\n",
    "  \n",
    "    # ... and remap them accordingly to layout\n",
    "    rqc = [' '.join([str(int(x[0])+1)]+[x[1]]+[str(qubits_map[int(y)]) for y in x[2:]]) \n",
    "            for x in (x.split() for x in rqc.to_qsim_lines())]\n",
    "  \n",
    "    # Add layer of hadamard at the beginning and end\n",
    "    rqc = ['0 h ' + str(qubits_map[q]) for q in range(len(qubits_map))] + rqc\n",
    "    rqc = rqc + [str(int(rqc[-1].split()[0])+1) + ' h ' + str(qubits_map[q]) for q in range(len(qubits_map))]\n",
    "  \n",
    "    # Add number of qubits at the beginning\n",
    "    rqc.insert(0, str(len(qubits_map)))\n",
    "  \n",
    "    return rqc"
   ]
  },
  {
   "cell_type": "code",
   "execution_count": 7,
   "metadata": {
    "ExecuteTime": {
     "end_time": "2019-11-13T17:03:02.653423Z",
     "start_time": "2019-11-13T17:02:59.235001Z"
    },
    "colab": {},
    "colab_type": "code",
    "id": "KENaHxBHumDv"
   },
   "outputs": [],
   "source": [
    "# Get ordering\n",
    "ordering = get_ordering(ibm_rochester, [x for x in get_rqc() if len(x.split()) == 4])"
   ]
  },
  {
   "cell_type": "code",
   "execution_count": 8,
   "metadata": {
    "ExecuteTime": {
     "end_time": "2019-11-13T17:03:33.580023Z",
     "start_time": "2019-11-13T17:03:17.859714Z"
    },
    "colab": {
     "base_uri": "https://localhost:8080/",
     "height": 34
    },
    "colab_type": "code",
    "executionInfo": {
     "elapsed": 598,
     "status": "ok",
     "timestamp": 1573583272123,
     "user": {
      "displayName": "Alan Kao",
      "photoUrl": "",
      "userId": "05072864353780750136"
     },
     "user_tz": 480
    },
    "id": "1Hx5PCJw4N75",
    "outputId": "97881665-ca21-4128-eda7-b322fbe6e69e"
   },
   "outputs": [
    {
     "name": "stderr",
     "output_type": "stream",
     "text": [
      "100% (10 of 10) |########################| Elapsed Time: 0:00:15 Time:  0:00:15\n"
     ]
    }
   ],
   "source": [
    "# Simulate the circuit using qFlex\n",
    "def run_simulation(final_state):\n",
    "\n",
    "    options = {\n",
    "      'circuit': get_rqc(),\n",
    "      'ordering': ordering,\n",
    "      'grid': ibm_rochester,\n",
    "      'final_state' : final_state\n",
    "    }\n",
    "  \n",
    "    return qflex.simulate(options)\n",
    "\n",
    "with Pool(8) as pool:\n",
    "    results = []\n",
    "    for _ in pb(range(10)):\n",
    "        results.extend(pool.map(run_simulation, [bin(np.random.randint(2**len(qubits_map)))[2:].zfill(len(qubits_map)) for _ in range(32)]))"
   ]
  },
  {
   "cell_type": "code",
   "execution_count": 9,
   "metadata": {
    "ExecuteTime": {
     "end_time": "2019-11-13T17:03:33.823974Z",
     "start_time": "2019-11-13T17:03:33.587469Z"
    },
    "colab": {
     "base_uri": "https://localhost:8080/",
     "height": 249
    },
    "colab_type": "code",
    "executionInfo": {
     "elapsed": 68,
     "status": "error",
     "timestamp": 1573583274903,
     "user": {
      "displayName": "Alan Kao",
      "photoUrl": "",
      "userId": "05072864353780750136"
     },
     "user_tz": 480
    },
    "id": "erpqlq7dU6-m",
    "outputId": "2bd24319-0a31-4335-cd4d-22fb47be180e"
   },
   "outputs": [
    {
     "data": {
      "image/png": "[encoded data removed]",
      "text/plain": [
       "<Figure size 432x288 with 1 Axes>"
      ]
     },
     "metadata": {
      "needs_background": "light"
     },
     "output_type": "display_data"
    }
   ],
   "source": [
    "plt.hist([np.abs(x[0][1])**2 for x in results])\n",
    "plt.show()"
   ]
  },
  {
   "cell_type": "code",
   "execution_count": 0,
   "metadata": {
    "colab": {},
    "colab_type": "code",
    "id": "GPWcPv7B0eQq"
   },
   "outputs": [],
   "source": []
  }
 ],
 "metadata": {
  "colab": {
   "collapsed_sections": [],
   "name": "qFlex_IBM_Rochester.ipynb",
   "provenance": []
  },
  "kernelspec": {
   "display_name": "Python 3",
   "language": "python",
   "name": "python3"
  },
  "language_info": {
   "codemirror_mode": {
    "name": "ipython",
    "version": 3
   },
   "file_extension": ".py",
   "mimetype": "text/x-python",
   "name": "python",
   "nbconvert_exporter": "python",
   "pygments_lexer": "ipython3",
   "version": "3.7.5"
  }
 },
 "nbformat": 4,
 "nbformat_minor": 1
}
