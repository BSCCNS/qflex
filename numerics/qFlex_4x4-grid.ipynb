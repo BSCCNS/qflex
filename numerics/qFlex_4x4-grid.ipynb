{
 "cells": [
  {
   "cell_type": "code",
   "execution_count": 1,
   "metadata": {
    "ExecuteTime": {
     "end_time": "2019-11-13T16:58:58.668134Z",
     "start_time": "2019-11-13T16:58:57.617231Z"
    },
    "colab": {
     "base_uri": "https://localhost:8080/",
     "height": 35
    },
    "colab_type": "code",
    "executionInfo": {
     "elapsed": 95,
     "status": "ok",
     "timestamp": 1573586215725,
     "user": {
      "displayName": "Salvatore Mandra",
      "photoUrl": "https://lh3.googleusercontent.com/a-/AAuE7mAPVyH-EY-8mUIa2F3Axu86bKhOqGuZZAuAkfdD=s64",
      "userId": "15537949830592596103"
     },
     "user_tz": 480
    },
    "id": "C_Skdn8qubuG",
    "outputId": "4b4bd613-acb4-4ab2-f477-211fe8325cc0"
   },
   "outputs": [
    {
     "name": "stdout",
     "output_type": "stream",
     "text": [
      "env: OMP_NUM_THREADS=1\n"
     ]
    }
   ],
   "source": [
    "# Set the number of number of OMP threads to 1\n",
    "%env OMP_NUM_THREADS=1\n",
    "\n",
    "# Update path including qFlex root\n",
    "import sys, os\n",
    "sys.path.insert(1, os.path.dirname('./../'))\n",
    "\n",
    "from python import qflex\n",
    "from python import utils\n",
    "from python.ordering import order_circuit_simulation as order_lib\n",
    "from python.circuits import generator\n",
    "from progressbar import progressbar as pb\n",
    "from io import StringIO\n",
    "from multiprocessing import Pool\n",
    "from itertools import chain\n",
    "import matplotlib.pyplot as plt\n",
    "import numpy as np\n",
    "import cirq"
   ]
  },
  {
   "cell_type": "code",
   "execution_count": 2,
   "metadata": {
    "ExecuteTime": {
     "end_time": "2019-11-13T16:59:01.655184Z",
     "start_time": "2019-11-13T16:59:01.647203Z"
    },
    "colab": {},
    "colab_type": "code",
    "id": "8ntdx8mE4GuU"
   },
   "outputs": [],
   "source": [
    "# Get ordering\n",
    "def get_ordering(grid, circuit):\n",
    "    qubits = utils.GetGridQubits(StringIO('\\n'.join(grid)))\n",
    "    circuit = utils.GetCircuit(StringIO('\\n'.join(circuit)), qubits)\n",
    "    return order_lib.circuit_to_ordering(circuit, qubit_names=sorted(qubits))"
   ]
  },
  {
   "cell_type": "code",
   "execution_count": 3,
   "metadata": {
    "ExecuteTime": {
     "end_time": "2019-11-13T16:59:03.714859Z",
     "start_time": "2019-11-13T16:59:03.708832Z"
    },
    "colab": {},
    "colab_type": "code",
    "id": "rgVjFe6BsfD1"
   },
   "outputs": [],
   "source": [
    "# Define grid\n",
    "grid = \"\"\"1111\n",
    "1111\n",
    "1111\n",
    "1111\"\"\".split('\\n')"
   ]
  },
  {
   "cell_type": "code",
   "execution_count": 4,
   "metadata": {
    "ExecuteTime": {
     "end_time": "2019-11-13T16:59:04.748276Z",
     "start_time": "2019-11-13T16:59:04.745736Z"
    },
    "colab": {},
    "colab_type": "code",
    "id": "oyTeUZCguuX2"
   },
   "outputs": [],
   "source": [
    "# Define gates\n",
    "q1_gates = [\"x_1_2\", \"y_1_2\", \"t\"]\n",
    "q2_gate = \"cx\""
   ]
  },
  {
   "cell_type": "code",
   "execution_count": 5,
   "metadata": {
    "ExecuteTime": {
     "end_time": "2019-11-13T16:59:12.874927Z",
     "start_time": "2019-11-13T16:59:12.865617Z"
    },
    "colab": {},
    "colab_type": "code",
    "id": "CM8lamUat_Cz"
   },
   "outputs": [],
   "source": [
    "# Define patterns for the generation of RQCs\n",
    "patterns = {\n",
    "  'A' : {(i,i+1) for i in range(0,16,2)},\n",
    "  'B' : {(i,i+1) for i in range(1,16,4)},\n",
    "  'C' : {(i,i+4) for i in chain(range(0,4),range(8,12))},\n",
    "  'D' : {(i,i+4) for i in range(4,8)}\n",
    "}\n",
    "\n",
    "# Define the sequence of patterns\n",
    "sequence = \"ACBD\"\n",
    "\n",
    "# Define the depth of the circuit\n",
    "depth = 12\n",
    "\n",
    "# Get qubits map\n",
    "qubits_map = {}\n",
    "for x,k in enumerate(int(y) for x in grid for y in x):\n",
    "    if k != 0:\n",
    "        qubits_map[len(qubits_map)] = x"
   ]
  },
  {
   "cell_type": "code",
   "execution_count": 6,
   "metadata": {
    "ExecuteTime": {
     "end_time": "2019-11-13T16:59:21.906060Z",
     "start_time": "2019-11-13T16:59:21.895027Z"
    },
    "colab": {},
    "colab_type": "code",
    "id": "_laMZRpMuIJq"
   },
   "outputs": [],
   "source": [
    "# Get a generator of RQCs\n",
    "prqcg = generator.PseudoRandomCircuitGenerator(\n",
    "            generator.Device(patterns),\n",
    "            q1_gates, \n",
    "            q2_gate)\n",
    "\n",
    "def get_rqc():\n",
    "\n",
    "    # Get a RQC ...\n",
    "    rqc = prqcg.generate(sequence, depth, None)\n",
    "  \n",
    "    # ... and remap them accordingly to layout\n",
    "    rqc = [' '.join([str(int(x[0])+1)]+[x[1]]+[str(qubits_map[int(y)]) for y in x[2:]]) \n",
    "            for x in (x.split() for x in rqc.to_qsim_lines())]\n",
    "  \n",
    "    # Add layer of hadamard at the beginning and end\n",
    "    rqc = ['0 h ' + str(qubits_map[q]) for q in range(len(qubits_map))] + rqc\n",
    "    rqc = rqc + [str(int(rqc[-1].split()[0])+1) + ' h ' + str(qubits_map[q]) for q in range(len(qubits_map))]\n",
    "  \n",
    "    # Add number of qubits at the beginning\n",
    "    rqc.insert(0, str(len(qubits_map)))\n",
    "  \n",
    "    return rqc"
   ]
  },
  {
   "cell_type": "code",
   "execution_count": 7,
   "metadata": {
    "ExecuteTime": {
     "end_time": "2019-11-13T16:59:24.391233Z",
     "start_time": "2019-11-13T16:59:23.241461Z"
    },
    "colab": {},
    "colab_type": "code",
    "id": "KENaHxBHumDv"
   },
   "outputs": [],
   "source": [
    "# Get ordering\n",
    "ordering = get_ordering(grid, [x for x in get_rqc() if len(x.split()) == 4])"
   ]
  },
  {
   "cell_type": "code",
   "execution_count": 8,
   "metadata": {
    "ExecuteTime": {
     "end_time": "2019-11-13T17:00:24.413220Z",
     "start_time": "2019-11-13T16:59:44.129634Z"
    },
    "colab": {
     "base_uri": "https://localhost:8080/",
     "height": 35
    },
    "colab_type": "code",
    "executionInfo": {
     "elapsed": 111913,
     "status": "ok",
     "timestamp": 1573586169356,
     "user": {
      "displayName": "Salvatore Mandra",
      "photoUrl": "https://lh3.googleusercontent.com/a-/AAuE7mAPVyH-EY-8mUIa2F3Axu86bKhOqGuZZAuAkfdD=s64",
      "userId": "15537949830592596103"
     },
     "user_tz": 480
    },
    "id": "1Hx5PCJw4N75",
    "outputId": "6f2e135c-5f37-4a79-a3ab-aa6fc7d94006"
   },
   "outputs": [
    {
     "name": "stderr",
     "output_type": "stream",
     "text": [
      "100% (32 of 32) |########################| Elapsed Time: 0:00:40 Time:  0:00:40\n"
     ]
    }
   ],
   "source": [
    "# Get unique set of states\n",
    "def get_unique_states(num_qubits, num_states):\n",
    "    states = set()\n",
    "    while(len(states) != num_states):\n",
    "        states.add(bin(np.random.randint(2**num_qubits))[2:].zfill(num_qubits))\n",
    "    return states\n",
    "\n",
    "# Simulate the circuit using qFlex\n",
    "def run_simulation(final_state):\n",
    "\n",
    "    options = {\n",
    "      'circuit': get_rqc(),\n",
    "      'ordering': ordering,\n",
    "      'grid': grid,\n",
    "      'final_state' : final_state\n",
    "    }\n",
    "  \n",
    "    return qflex.simulate(options)\n",
    "\n",
    "# Number of desired amplitudes\n",
    "num_amplitudes = 1000\n",
    "\n",
    "states = list(get_unique_states(len(qubits_map), num_amplitudes))\n",
    "\n",
    "with Pool(8) as pool:\n",
    "    amplitudes = []\n",
    "    for i in pb(range(int(len(states)/32)+(len(states)%32>0))):\n",
    "        amplitudes.extend(pool.map(run_simulation, states[i*32:(i+1)*32]))"
   ]
  },
  {
   "cell_type": "code",
   "execution_count": 12,
   "metadata": {
    "ExecuteTime": {
     "end_time": "2019-11-13T17:00:42.836551Z",
     "start_time": "2019-11-13T17:00:42.827331Z"
    },
    "colab": {},
    "colab_type": "code",
    "id": "i-EY249Kkuds"
   },
   "outputs": [],
   "source": [
    "# Given a dataset, return a bootstrapped histogram\n",
    "def bootstrap_hist_data(data, num_bins=10, density=False, fraction_boostrap=0.75, bootstrap_rep=None):\n",
    "\n",
    "    n = int(fraction_boostrap * len(data))\n",
    "  \n",
    "    if bootstrap_rep == None:\n",
    "        bootstrap_rep = len(data)\n",
    "  \n",
    "    hist_hits, bins = np.histogram(data[[np.random.randint(len(data)) for _ in range(n)]], num_bins, density=density)\n",
    "    if not density:\n",
    "        hist_hits = hist_hits/len(data)\n",
    "    var_hist_hits = hist_hits**2\n",
    "  \n",
    "    for _ in pb(range(bootstrap_rep-1)):\n",
    "        h,b = np.histogram(data[[np.random.randint(len(data)) for _ in range(n)]], bins=bins, density=density)\n",
    "        if not density:\n",
    "            h = h/len(data)\n",
    "  \n",
    "        hist_hits += h\n",
    "        var_hist_hits += h**2\n",
    "  \n",
    "    hist_hits = hist_hits/bootstrap_rep\n",
    "    var_hist_hits = np.sqrt(var_hist_hits/bootstrap_rep - hist_hits**2)\n",
    "  \n",
    "    return bins, hist_hits, var_hist_hits"
   ]
  },
  {
   "cell_type": "code",
   "execution_count": 13,
   "metadata": {
    "ExecuteTime": {
     "end_time": "2019-11-13T17:00:48.442118Z",
     "start_time": "2019-11-13T17:00:44.556880Z"
    },
    "colab": {
     "base_uri": "https://localhost:8080/",
     "height": 35
    },
    "colab_type": "code",
    "executionInfo": {
     "elapsed": 15658,
     "status": "ok",
     "timestamp": 1573588135234,
     "user": {
      "displayName": "Salvatore Mandra",
      "photoUrl": "https://lh3.googleusercontent.com/a-/AAuE7mAPVyH-EY-8mUIa2F3Axu86bKhOqGuZZAuAkfdD=s64",
      "userId": "15537949830592596103"
     },
     "user_tz": 480
    },
    "id": "eg2Zo2zuecrU",
    "outputId": "3b8bc61a-cd3a-4c0d-ce84-3e042ee15650"
   },
   "outputs": [
    {
     "name": "stderr",
     "output_type": "stream",
     "text": [
      "100% (999 of 999) |######################| Elapsed Time: 0:00:03 Time:  0:00:03\n"
     ]
    }
   ],
   "source": [
    "# Get a^2 for all ampltiudes\n",
    "a2 = np.array([np.abs(x[0][1])**2 for x in amplitudes])\n",
    "\n",
    "# Get bootstrapped histogram\n",
    "bins, hist_hits, var_hist_hits = bootstrap_hist_data(a2, num_bins=8, density=True)"
   ]
  },
  {
   "cell_type": "code",
   "execution_count": 14,
   "metadata": {
    "ExecuteTime": {
     "end_time": "2019-11-13T17:00:49.936046Z",
     "start_time": "2019-11-13T17:00:49.377689Z"
    },
    "colab": {
     "base_uri": "https://localhost:8080/",
     "height": 286
    },
    "colab_type": "code",
    "executionInfo": {
     "elapsed": 15779,
     "status": "ok",
     "timestamp": 1573588135763,
     "user": {
      "displayName": "Salvatore Mandra",
      "photoUrl": "https://lh3.googleusercontent.com/a-/AAuE7mAPVyH-EY-8mUIa2F3Axu86bKhOqGuZZAuAkfdD=s64",
      "userId": "15537949830592596103"
     },
     "user_tz": 480
    },
    "id": "32_NMipXecom",
    "outputId": "688b0a87-89f6-4049-9094-ac8875c5326e"
   },
   "outputs": [
    {
     "data": {
      "image/png": "[encoded data removed]",
      "text/plain": [
       "<Figure size 432x288 with 1 Axes>"
      ]
     },
     "metadata": {
      "needs_background": "light"
     },
     "output_type": "display_data"
    }
   ],
   "source": [
    "# Compute Porter-Thomas distribution\n",
    "plt.errorbar(2**(len(qubits_map))*bins[1:], np.log(hist_hits), var_hist_hits/hist_hits, ls='--', marker='o', capsize=2)\n",
    "plt.xlabel('$N\\,|a|^2$')\n",
    "plt.ylabel('$p(|a|^2)$')\n",
    "plt.show()"
   ]
  },
  {
   "cell_type": "code",
   "execution_count": 0,
   "metadata": {
    "colab": {},
    "colab_type": "code",
    "id": "2BKXSOecpLZi"
   },
   "outputs": [],
   "source": []
  }
 ],
 "metadata": {
  "colab": {
   "collapsed_sections": [],
   "name": "qFlex_4x4-grid.ipynb",
   "provenance": []
  },
  "kernelspec": {
   "display_name": "Python 3",
   "language": "python",
   "name": "python3"
  },
  "language_info": {
   "codemirror_mode": {
    "name": "ipython",
    "version": 3
   },
   "file_extension": ".py",
   "mimetype": "text/x-python",
   "name": "python",
   "nbconvert_exporter": "python",
   "pygments_lexer": "ipython3",
   "version": "3.7.5"
  }
 },
 "nbformat": 4,
 "nbformat_minor": 1
}
